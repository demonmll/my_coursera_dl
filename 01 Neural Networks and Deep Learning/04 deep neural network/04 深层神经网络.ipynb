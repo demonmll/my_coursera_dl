{
 "cells": [
  {
   "cell_type": "markdown",
   "metadata": {},
   "source": [
    "## 1 what is a deep neural network\n",
    "> L(LAYER)=4 \n",
    "\n",
    ">N[1]=units in layer l\n",
    "\n",
    "> a[l] = g[l] -- w[l] = weights for z[l]"
   ]
  },
  {
   "cell_type": "markdown",
   "metadata": {},
   "source": [
    "<img src=./picture/1-1.png>\n",
    "<img src=./picture/1-2.png>"
   ]
  },
  {
   "cell_type": "markdown",
   "metadata": {},
   "source": [
    "## 2 Forward Propagation in a DeepNetwork\n",
    "> single training example x using forward propagation\n",
    "\n",
    "> x 实际上就是a[0]"
   ]
  },
  {
   "cell_type": "markdown",
   "metadata": {},
   "source": [
    "<img src=./picture/1-3.png>"
   ]
  },
  {
   "cell_type": "markdown",
   "metadata": {},
   "source": [
    "## 3 Getting your matrix demesion right\n",
    ">在向量化的过程中，w dw b db 的维度不会发生变化\n",
    "\n",
    ">注意多个样本时 a x z的维度变化 （在加上b时python会使用广播机制）"
   ]
  },
  {
   "cell_type": "markdown",
   "metadata": {},
   "source": [
    "<img src=./picture/1-4.png>\n",
    "<img src=./picture/1-5.png>"
   ]
  },
  {
   "cell_type": "markdown",
   "metadata": {},
   "source": [
    "## 4 why deep neural network"
   ]
  },
  {
   "cell_type": "markdown",
   "metadata": {},
   "source": [
    "<img src=./picture/1-6.png>\n",
    "<img src=./picture/1-7.png>"
   ]
  },
  {
   "cell_type": "markdown",
   "metadata": {},
   "source": [
    "## 5 one iteration of gradient descent for neural network\n",
    "> **神经网络的一次迭代**\n",
    "\n",
    "> **cache将每一层的信息存储下来 w,b,z /dw, db, dz**"
   ]
  },
  {
   "cell_type": "markdown",
   "metadata": {},
   "source": [
    "<img src=./picture/1-8.png>"
   ]
  },
  {
   "cell_type": "markdown",
   "metadata": {},
   "source": [
    "## 6 forward and backward propagation\n",
    "> **前向传播时初始化参数为x, 后向传播时初始化参数为da[L] = - y/a + (1-y)/(1-a) + ...+n个样本的损失函数的导数**"
   ]
  },
  {
   "cell_type": "markdown",
   "metadata": {},
   "source": [
    "<img src=./picture/1-9.png>\n",
    "<img src=./picture/1-10.png>\n",
    "<img src=./picture/1-11.png>"
   ]
  },
  {
   "cell_type": "markdown",
   "metadata": {},
   "source": [
    "## 7 parameters vs hyperparameters "
   ]
  },
  {
   "cell_type": "markdown",
   "metadata": {},
   "source": [
    "<img src=./picture/1-12.png>"
   ]
  },
  {
   "cell_type": "code",
   "execution_count": null,
   "metadata": {},
   "outputs": [],
   "source": []
  }
 ],
 "metadata": {
  "kernelspec": {
   "display_name": "Python 3",
   "language": "python",
   "name": "python3"
  },
  "language_info": {
   "codemirror_mode": {
    "name": "ipython",
    "version": 3
   },
   "file_extension": ".py",
   "mimetype": "text/x-python",
   "name": "python",
   "nbconvert_exporter": "python",
   "pygments_lexer": "ipython3",
   "version": "3.6.4"
  }
 },
 "nbformat": 4,
 "nbformat_minor": 2
}
